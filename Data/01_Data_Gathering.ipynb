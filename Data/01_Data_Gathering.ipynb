{
 "cells": [
  {
   "cell_type": "markdown",
   "metadata": {},
   "source": [
    "This Notebook provides the code for getting the Udemy data through Udemy API . \n",
    "\n",
    "Reference: https://www.udemy.com/developers/affiliate/"
   ]
  },
  {
   "cell_type": "code",
   "execution_count": 78,
   "metadata": {},
   "outputs": [],
   "source": [
    "import json\n",
    "import requests\n",
    "import time\n",
    "import pandas as pd"
   ]
  },
  {
   "cell_type": "markdown",
   "metadata": {},
   "source": [
    "# Udemy API function \n",
    "\n",
    "The function is defined here to grab the Udemy course informations based on various course category. The maximum course content shows in each page is 60. "
   ]
  },
  {
   "cell_type": "code",
   "execution_count": 2,
   "metadata": {},
   "outputs": [],
   "source": [
    "def get_udemy_course(pnumber,catid):\n",
    "    url = \"https://www.udemy.com/api-2.0/discovery-units/all_courses/\" \\\n",
    "               \"?p={0}\" \\\n",
    "               \"&page_size=60\" \\\n",
    "               \"&category_id={1}\" \\\n",
    "               \"&source_page=category_page&locale=en_US&currency=usd&sos=pc&fl=cat\".format(pnumber,catid)\n",
    "         \n",
    "    response = requests.get(url)\n",
    "    if response.status_code == 200:\n",
    "        resp_json = response.json()\n",
    "    else:\n",
    "        print(response.status_code)\n",
    "        return []\n",
    "    time.sleep(1)\n",
    "    return resp_json['unit']['items']"
   ]
  },
  {
   "cell_type": "markdown",
   "metadata": {},
   "source": [
    "# Collect the data based on the categories"
   ]
  },
  {
   "cell_type": "markdown",
   "metadata": {},
   "source": [
    "There are twelve course categories in the Udemy site, each category had its own course_id which are listed below. The `while` loop will allow me to keep grabbing the course information shown in each page until I hit the last page for the certain category . Even though I can assign a loop iterate through twelve course categories, I ended up deciding to run a function repeatedly since this can allow people to grab the data that only they want. In addition, I created the other column named `category` so that I can investigate the data in each category during the EDA process. "
   ]
  },
  {
   "cell_type": "markdown",
   "metadata": {},
   "source": [
    "- Development: `course_id = 288`\n",
    "- Business: `course_id = 268`\n",
    "- IT & Software: `course_id = 294`\n",
    "- Office Productivity: `course_id = 292`\n",
    "- Personal Developement: `course_id = 296`\n",
    "- Design: `course_id = 269`\n",
    "- Marketing: `course_id = 290`\n",
    "- Lifestyle: `course_id = 274`\n",
    "- Photography: `course_id = 273`\n",
    "- Health & Fitness `course_id = 276`\n",
    "- Music `course_id = 278`\n",
    "- Teaching & Academics `course_id = 300`"
   ]
  },
  {
   "cell_type": "markdown",
   "metadata": {},
   "source": [
    "## 1. \"Development\" courses"
   ]
  },
  {
   "cell_type": "code",
   "execution_count": 3,
   "metadata": {
    "scrolled": false
   },
   "outputs": [
    {
     "name": "stdout",
     "output_type": "stream",
     "text": [
      "400\n"
     ]
    }
   ],
   "source": [
    "all_dev = []\n",
    "page_number = 1\n",
    "data = True\n",
    "while data:\n",
    "    data = get_udemy_course(page_number, 288)\n",
    "    all_dev.extend(data)\n",
    "    page_number += 1"
   ]
  },
  {
   "cell_type": "code",
   "execution_count": 30,
   "metadata": {},
   "outputs": [],
   "source": [
    "Udemy_Dev_course = pd.DataFrame(all_dev)\n",
    "Udemy_Dev_course['language'] = [i['title'] for i in Udemy_Dev_course['locale']]\n",
    "Udemy_Dev_course = Udemy_Dev_course[['id', 'avg_rating_recent', \n",
    "                                     'objectives_summary','num_subscribers', \n",
    "                                     'content_info', 'headline', 'image_304x171',\n",
    "                                     'title', 'url','language' ]]\n",
    "Udemy_Dev_course['category'] = 'Development'"
   ]
  },
  {
   "cell_type": "code",
   "execution_count": 90,
   "metadata": {},
   "outputs": [],
   "source": [
    "Udemy_Dev_course.to_csv('Udemy_Dev_course.csv', index=False)"
   ]
  },
  {
   "cell_type": "markdown",
   "metadata": {},
   "source": [
    "## 2. \"Business\" courses"
   ]
  },
  {
   "cell_type": "code",
   "execution_count": 36,
   "metadata": {
    "scrolled": false
   },
   "outputs": [
    {
     "name": "stdout",
     "output_type": "stream",
     "text": [
      "400\n"
     ]
    }
   ],
   "source": [
    "all_business = []\n",
    "page_number = 1\n",
    "data = True\n",
    "while data:\n",
    "    data = get_udemy_course(page_number, 268)\n",
    "    all_business.extend(data)\n",
    "    page_number += 1"
   ]
  },
  {
   "cell_type": "code",
   "execution_count": 40,
   "metadata": {},
   "outputs": [],
   "source": [
    "Udemy_Bus_course = pd.DataFrame(all_business)\n",
    "Udemy_Bus_course['language'] = [i['title'] for i in Udemy_Bus_course['locale']]\n",
    "Udemy_Bus_course = Udemy_Bus_course[['id', 'avg_rating_recent', \n",
    "                                     'objectives_summary','num_subscribers', \n",
    "                                     'content_info', 'headline', 'image_304x171',\n",
    "                                     'title', 'url','language' ]]\n",
    "Udemy_Bus_course['category'] = 'Business'"
   ]
  },
  {
   "cell_type": "code",
   "execution_count": 91,
   "metadata": {},
   "outputs": [],
   "source": [
    "Udemy_Bus_course.to_csv('Udemy_Bus_course.csv', index=False)"
   ]
  },
  {
   "cell_type": "markdown",
   "metadata": {},
   "source": [
    "## 3. \"IT & Software\" courses"
   ]
  },
  {
   "cell_type": "code",
   "execution_count": 43,
   "metadata": {
    "scrolled": false
   },
   "outputs": [
    {
     "name": "stdout",
     "output_type": "stream",
     "text": [
      "400\n"
     ]
    }
   ],
   "source": [
    "all_it_soft = []\n",
    "page_number = 1\n",
    "data = True\n",
    "while data:\n",
    "    data = get_udemy_course(page_number, 294)\n",
    "    all_it_soft.extend(data)\n",
    "    page_number += 1"
   ]
  },
  {
   "cell_type": "code",
   "execution_count": 44,
   "metadata": {},
   "outputs": [],
   "source": [
    "Udemy_it_course = pd.DataFrame(all_it_soft)\n",
    "Udemy_it_course['language'] = [i['title'] for i in Udemy_it_course['locale']]\n",
    "Udemy_it_course = Udemy_it_course[['id', 'avg_rating_recent', \n",
    "                                   'objectives_summary','num_subscribers', \n",
    "                                   'content_info', 'headline', 'image_304x171',\n",
    "                                   'title', 'url','language' ]]\n",
    "Udemy_it_course['category'] = 'IT_&_Software'"
   ]
  },
  {
   "cell_type": "code",
   "execution_count": 92,
   "metadata": {},
   "outputs": [],
   "source": [
    "Udemy_it_course.to_csv('Udemy_it_course.csv', index=False)"
   ]
  },
  {
   "cell_type": "markdown",
   "metadata": {},
   "source": [
    "## 4. \"Office Productivity\" courses"
   ]
  },
  {
   "cell_type": "code",
   "execution_count": 46,
   "metadata": {
    "scrolled": false
   },
   "outputs": [],
   "source": [
    "all_office = []\n",
    "page_number = 1\n",
    "data = True\n",
    "while data:\n",
    "    data = get_udemy_course(page_number, 292)\n",
    "    all_office.extend(data)\n",
    "    page_number += 1"
   ]
  },
  {
   "cell_type": "code",
   "execution_count": 49,
   "metadata": {},
   "outputs": [],
   "source": [
    "Udemy_office_course = pd.DataFrame(all_office)\n",
    "Udemy_office_course['language'] = [i['title'] for i in Udemy_office_course['locale']]\n",
    "Udemy_office_course = Udemy_office_course[['id', 'avg_rating_recent', \n",
    "                                           'objectives_summary','num_subscribers', \n",
    "                                           'content_info', 'headline', 'image_304x171',\n",
    "                                           'title', 'url','language' ]]\n",
    "Udemy_office_course['category'] = 'Office_Productivity'"
   ]
  },
  {
   "cell_type": "code",
   "execution_count": 93,
   "metadata": {},
   "outputs": [],
   "source": [
    "Udemy_office_course.to_csv('Udemy_office_course.csv', index=False)"
   ]
  },
  {
   "cell_type": "markdown",
   "metadata": {},
   "source": [
    "## 5. \"Personal Development\" courses"
   ]
  },
  {
   "cell_type": "code",
   "execution_count": 47,
   "metadata": {},
   "outputs": [
    {
     "name": "stdout",
     "output_type": "stream",
     "text": [
      "400\n"
     ]
    }
   ],
   "source": [
    "all_personal = []\n",
    "page_number = 1\n",
    "data = True\n",
    "while data:\n",
    "    data = get_udemy_course(page_number, 296)\n",
    "    all_personal.extend(data)\n",
    "    page_number += 1"
   ]
  },
  {
   "cell_type": "code",
   "execution_count": 94,
   "metadata": {},
   "outputs": [],
   "source": [
    "Udemy_personal_course = pd.DataFrame(all_personal)\n",
    "Udemy_personal_course['language'] = [i['title'] for i in Udemy_personal_course['locale']]\n",
    "Udemy_personal_course = Udemy_personal_course[['id', 'avg_rating_recent', \n",
    "                                               'objectives_summary','num_subscribers', \n",
    "                                               'content_info', 'headline', 'image_304x171',\n",
    "                                               'title', 'url','language' ]]\n",
    "Udemy_personal_course['category'] = 'Personal_Development'\n",
    "\n",
    "Udemy_personal_course.to_csv('Udemy_personal_course.csv', index=False)"
   ]
  },
  {
   "cell_type": "markdown",
   "metadata": {},
   "source": [
    "## 6. \"Design\" courses"
   ]
  },
  {
   "cell_type": "code",
   "execution_count": 51,
   "metadata": {},
   "outputs": [],
   "source": [
    "all_design = []\n",
    "page_number = 1\n",
    "data = True\n",
    "while data:\n",
    "    data = get_udemy_course(page_number, 269)\n",
    "    all_design.extend(data)\n",
    "    page_number += 1"
   ]
  },
  {
   "cell_type": "code",
   "execution_count": 52,
   "metadata": {},
   "outputs": [],
   "source": [
    "Udemy_design_course = pd.DataFrame(all_design)\n",
    "Udemy_design_course['language'] = [i['title'] for i in Udemy_design_course['locale']]\n",
    "Udemy_design_course = Udemy_design_course[['id', 'avg_rating_recent', \n",
    "                                               'objectives_summary','num_subscribers', \n",
    "                                               'content_info', 'headline', 'image_304x171',\n",
    "                                               'title', 'url','language' ]]\n",
    "Udemy_design_course['category'] = 'Design'"
   ]
  },
  {
   "cell_type": "code",
   "execution_count": 95,
   "metadata": {},
   "outputs": [],
   "source": [
    "Udemy_design_course.to_csv('Udemy_design_course.csv', index=False)"
   ]
  },
  {
   "cell_type": "markdown",
   "metadata": {},
   "source": [
    "## 7. \"Marketing\" courses"
   ]
  },
  {
   "cell_type": "code",
   "execution_count": 54,
   "metadata": {},
   "outputs": [],
   "source": [
    "all_marketing = []\n",
    "page_number = 1\n",
    "data = True\n",
    "while data:\n",
    "    data = get_udemy_course(page_number, 290)\n",
    "    all_marketing.extend(data)\n",
    "    page_number += 1"
   ]
  },
  {
   "cell_type": "code",
   "execution_count": 55,
   "metadata": {},
   "outputs": [],
   "source": [
    "Udemy_marketing_course = pd.DataFrame(all_marketing)\n",
    "Udemy_marketing_course['language'] = [i['title'] for i in Udemy_marketing_course['locale']]\n",
    "Udemy_marketing_course = Udemy_marketing_course[['id', 'avg_rating_recent', \n",
    "                                                 'objectives_summary','num_subscribers', \n",
    "                                                 'content_info', 'headline', 'image_304x171',\n",
    "                                                 'title', 'url','language' ]]\n",
    "Udemy_marketing_course['category'] = 'Marketing'"
   ]
  },
  {
   "cell_type": "code",
   "execution_count": 96,
   "metadata": {},
   "outputs": [],
   "source": [
    "Udemy_marketing_course.to_csv('Udemy_marketing_course.csv', index=False)"
   ]
  },
  {
   "cell_type": "markdown",
   "metadata": {},
   "source": [
    "## 8. \"Lifestyle\" courses"
   ]
  },
  {
   "cell_type": "code",
   "execution_count": 57,
   "metadata": {},
   "outputs": [],
   "source": [
    "all_lifestyle = []\n",
    "page_number = 1\n",
    "data = True\n",
    "while data:\n",
    "    data = get_udemy_course(page_number, 274)\n",
    "    all_lifestyle.extend(data)\n",
    "    page_number += 1"
   ]
  },
  {
   "cell_type": "code",
   "execution_count": 58,
   "metadata": {},
   "outputs": [],
   "source": [
    "Udemy_lifestyle_course = pd.DataFrame(all_lifestyle)\n",
    "Udemy_lifestyle_course['language'] = [i['title'] for i in Udemy_lifestyle_course['locale']]\n",
    "Udemy_lifestyle_course = Udemy_lifestyle_course[['id', 'avg_rating_recent', \n",
    "                                                 'objectives_summary','num_subscribers', \n",
    "                                                 'content_info', 'headline', 'image_304x171',\n",
    "                                                 'title', 'url','language' ]]\n",
    "Udemy_lifestyle_course['category'] = 'Lifestyle'"
   ]
  },
  {
   "cell_type": "code",
   "execution_count": 97,
   "metadata": {},
   "outputs": [],
   "source": [
    "Udemy_lifestyle_course.to_csv('Udemy_lifestyle_course.csv', index=False)"
   ]
  },
  {
   "cell_type": "markdown",
   "metadata": {},
   "source": [
    "## 9. \"Photography\" courses"
   ]
  },
  {
   "cell_type": "code",
   "execution_count": 60,
   "metadata": {},
   "outputs": [],
   "source": [
    "all_photography = []\n",
    "page_number = 1\n",
    "data = True\n",
    "while data:\n",
    "    data = get_udemy_course(page_number, 273)\n",
    "    all_photography.extend(data)\n",
    "    page_number += 1"
   ]
  },
  {
   "cell_type": "code",
   "execution_count": 61,
   "metadata": {},
   "outputs": [],
   "source": [
    "Udemy_photography_course = pd.DataFrame(all_photography)\n",
    "Udemy_photography_course['language'] = [i['title'] for i in Udemy_photography_course['locale']]\n",
    "Udemy_photography_course = Udemy_photography_course [['id', 'avg_rating_recent', \n",
    "                                                      'objectives_summary','num_subscribers', \n",
    "                                                      'content_info', 'headline', 'image_304x171',\n",
    "                                                      'title', 'url','language' ]]\n",
    "Udemy_photography_course ['category'] = 'Photography'"
   ]
  },
  {
   "cell_type": "code",
   "execution_count": 98,
   "metadata": {},
   "outputs": [],
   "source": [
    "Udemy_photography_course.to_csv('Udemy_photography_course.csv', index=False)"
   ]
  },
  {
   "cell_type": "markdown",
   "metadata": {},
   "source": [
    "## 10. \"Health & Fitness\" courses"
   ]
  },
  {
   "cell_type": "code",
   "execution_count": 63,
   "metadata": {},
   "outputs": [],
   "source": [
    "all_health = []\n",
    "page_number = 1\n",
    "data = True\n",
    "while data:\n",
    "    data = get_udemy_course(page_number, 276)\n",
    "    all_health.extend(data)\n",
    "    page_number += 1"
   ]
  },
  {
   "cell_type": "code",
   "execution_count": 65,
   "metadata": {},
   "outputs": [],
   "source": [
    "Udemy_health_course = pd.DataFrame(all_health)\n",
    "Udemy_health_course['language'] = [i['title'] for i in Udemy_health_course['locale']]\n",
    "Udemy_health_course = Udemy_health_course[['id', 'avg_rating_recent', \n",
    "                                           'objectives_summary','num_subscribers', \n",
    "                                           'content_info', 'headline', 'image_304x171',\n",
    "                                           'title', 'url','language' ]]\n",
    "Udemy_health_course['category'] = 'Health_&_Fitness'"
   ]
  },
  {
   "cell_type": "code",
   "execution_count": 99,
   "metadata": {},
   "outputs": [],
   "source": [
    "Udemy_health_course.to_csv('Udemy_health_course.csv', index=False)"
   ]
  },
  {
   "cell_type": "markdown",
   "metadata": {},
   "source": [
    "## 11. \"Music\" courses"
   ]
  },
  {
   "cell_type": "code",
   "execution_count": 67,
   "metadata": {},
   "outputs": [],
   "source": [
    "all_music = []\n",
    "page_number = 1\n",
    "data = True\n",
    "while data:\n",
    "    data = get_udemy_course(page_number, 278)\n",
    "    all_music.extend(data)\n",
    "    page_number += 1"
   ]
  },
  {
   "cell_type": "code",
   "execution_count": 68,
   "metadata": {},
   "outputs": [],
   "source": [
    "Udemy_music_course = pd.DataFrame(all_music)\n",
    "Udemy_music_course['language'] = [i['title'] for i in Udemy_music_course['locale']]\n",
    "Udemy_music_course = Udemy_music_course[['id', 'avg_rating_recent', \n",
    "                                         'objectives_summary','num_subscribers', \n",
    "                                         'content_info', 'headline', 'image_304x171',\n",
    "                                         'title', 'url','language' ]]\n",
    "Udemy_music_course['category'] = 'Music'"
   ]
  },
  {
   "cell_type": "code",
   "execution_count": 100,
   "metadata": {},
   "outputs": [],
   "source": [
    "Udemy_music_course.to_csv('Udemy_music_course.csv', index=False)"
   ]
  },
  {
   "cell_type": "markdown",
   "metadata": {},
   "source": [
    "## 12. \"Teaching & Academics\" courses"
   ]
  },
  {
   "cell_type": "code",
   "execution_count": 70,
   "metadata": {},
   "outputs": [],
   "source": [
    "all_academics = []\n",
    "page_number = 1\n",
    "data = True\n",
    "while data:\n",
    "    data = get_udemy_course(page_number, 300)\n",
    "    all_academics.extend(data)\n",
    "    page_number += 1"
   ]
  },
  {
   "cell_type": "code",
   "execution_count": 71,
   "metadata": {},
   "outputs": [],
   "source": [
    "Udemy_academics_course = pd.DataFrame(all_academics)\n",
    "Udemy_academics_course['language'] = [i['title'] for i in Udemy_academics_course['locale']]\n",
    "Udemy_academics_course = Udemy_academics_course[['id', 'avg_rating_recent', \n",
    "                                                 'objectives_summary','num_subscribers', \n",
    "                                                 'content_info', 'headline', 'image_304x171',\n",
    "                                                 'title', 'url','language' ]]\n",
    "Udemy_academics_course['category'] = 'Teaching_&_Academics'"
   ]
  },
  {
   "cell_type": "code",
   "execution_count": 101,
   "metadata": {},
   "outputs": [],
   "source": [
    "Udemy_academics_course.to_csv('Udemy_academics_course.csv', index=False)"
   ]
  },
  {
   "cell_type": "markdown",
   "metadata": {},
   "source": [
    "# Merge and store the data to Postgres in the AWS instance"
   ]
  },
  {
   "cell_type": "markdown",
   "metadata": {},
   "source": [
    "The collected data are merged together to a single dataframe using `pd.concat` method."
   ]
  },
  {
   "cell_type": "code",
   "execution_count": 108,
   "metadata": {},
   "outputs": [],
   "source": [
    "Udemy = pd.concat([Udemy_academics_course,Udemy_Bus_course,Udemy_design_course,Udemy_Dev_course,\n",
    "                   Udemy_health_course,Udemy_it_course,Udemy_lifestyle_course,Udemy_marketing_course,\n",
    "                   Udemy_music_course,Udemy_office_course,Udemy_personal_course,Udemy_photography_course], \n",
    "                   axis=0, ignore_index=True)"
   ]
  },
  {
   "cell_type": "code",
   "execution_count": 110,
   "metadata": {},
   "outputs": [],
   "source": [
    "Udemy.to_csv('Udemy.csv', index=False)"
   ]
  },
  {
   "cell_type": "markdown",
   "metadata": {},
   "source": [
    "> Data Dictionary of the final dataframe\n",
    "\n",
    "|Column Name|Data type|Description|\n",
    "| --- | --- | --- |\n",
    "|id|int|Course ID |\n",
    "|avg_rating_recent|float|The average ratings for the course|\n",
    "|objectives_summary|object|Objective summary of the course|\n",
    "|num_subscibers|int|The number of people who subscribe the course|\n",
    "|content_info|object|The Length of course or number of quiz/questions\n",
    "|headline|object|The headlines of the course\n",
    "|image_304x171|object|Link to the course thumbnail|\n",
    "|title|object|The title of the course\n",
    "|url|object|The Link to the Udemy website\n",
    "|language|object|The Language that the instructor used in the course|\n",
    "|category|object|The course category\n"
   ]
  },
  {
   "cell_type": "markdown",
   "metadata": {},
   "source": [
    "This dataset will be stored into the postgres server in AWS instance with the following commands. \n",
    "```\n",
    "CREATE TABLE udemy(\n",
    "\tid INT,\n",
    "\tavg_rating_recent NUMERIC,\n",
    "\tobjectives_summary TEXT,\n",
    "\tnum_subscribers NUMERIC,\n",
    "\tcontent_info TEXT,\n",
    "\theadline TEXT,\n",
    "\timage_304x171 TEXT,\n",
    "\ttitle TEXT,\n",
    "\turl TEXT,\n",
    "\tlanguage TEXT,\n",
    "\tcategory TEXT,\n",
    "\tdescription TEXT    \n",
    ");\n",
    "COPY udemy FROM '/Udemy.csv' WITH DELIMITER ',' HEADER CSV;      \n",
    "```"
   ]
  }
 ],
 "metadata": {
  "kernelspec": {
   "display_name": "Python 3",
   "language": "python",
   "name": "python3"
  },
  "language_info": {
   "codemirror_mode": {
    "name": "ipython",
    "version": 3
   },
   "file_extension": ".py",
   "mimetype": "text/x-python",
   "name": "python",
   "nbconvert_exporter": "python",
   "pygments_lexer": "ipython3",
   "version": "3.6.7"
  }
 },
 "nbformat": 4,
 "nbformat_minor": 2
}
